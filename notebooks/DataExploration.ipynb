{
 "cells": [
  {
   "cell_type": "markdown",
   "source": [
    "# Data Exploration"
   ],
   "metadata": {}
  },
  {
   "cell_type": "markdown",
   "source": [
    "## Importing working Libraries and Scripts"
   ],
   "metadata": {}
  },
  {
   "cell_type": "code",
   "execution_count": 1,
   "source": [
    "# Importing Libraries\r\n",
    "import pandas as pd\r\n",
    "import numpy as np\r\n",
    "import sys\r\n",
    "import os\r\n",
    "\r\n",
    "# Importing Scripts\r\n",
    "sys.path.append(os.path.abspath(os.path.join('..')))\r\n",
    "from scripts.logger_creator import CreateLogger\r\n",
    "from scripts.data_loader import load_df_from_csv\r\n",
    "from scripts.data_information import DataInfo\r\n",
    "from scripts.data_cleaner import DataCleaner\r\n",
    "from scripts.data_manipulation import DataManipulator\r\n",
    "from scripts.utilities import calculate_circumference\r\n"
   ],
   "outputs": [],
   "metadata": {}
  },
  {
   "cell_type": "code",
   "execution_count": 60,
   "source": [
    "# Configuring Notebook Settings\r\n",
    "pd.set_option('max_column', None)\r\n",
    "pd.set_option('display.float_format', '{:.6f}'.format)\r\n",
    "%matplotlib inline"
   ],
   "outputs": [],
   "metadata": {}
  },
  {
   "cell_type": "markdown",
   "source": [
    "## Loading Data CSV File"
   ],
   "metadata": {}
  },
  {
   "cell_type": "code",
   "execution_count": 3,
   "source": [
    "# Declaring Data File-Path\r\n",
    "DATAPATH = '../data/data.csv'"
   ],
   "outputs": [],
   "metadata": {}
  },
  {
   "cell_type": "code",
   "execution_count": 4,
   "source": [
    "# Loading Breast Cancer Data-Set\r\n",
    "data_df = load_df_from_csv(DATAPATH, na_values=['none'])"
   ],
   "outputs": [],
   "metadata": {}
  },
  {
   "cell_type": "code",
   "execution_count": 5,
   "source": [
    "# Extracting Information from the data\r\n",
    "# Instantiate DataInfo Object using our dataset dataframe\r\n",
    "data_info = DataInfo(data_df, deep=True)"
   ],
   "outputs": [],
   "metadata": {}
  },
  {
   "cell_type": "code",
   "execution_count": 6,
   "source": [
    "# View Data Details\r\n",
    "data_info.get_basic_description()"
   ],
   "outputs": [
    {
     "output_type": "stream",
     "name": "stdout",
     "text": [
      "The DataFrame containes 569 rows and 33 columns.\n",
      "Current DataFrame Memory Usage:\n",
      "105962\n",
      "Current DataFrame Memory Usage of columns is :\n",
      "DataFrame Information: \n",
      "<class 'pandas.core.frame.DataFrame'>\n",
      "RangeIndex: 569 entries, 0 to 568\n",
      "Data columns (total 33 columns):\n",
      " #   Column                   Non-Null Count  Dtype  \n",
      "---  ------                   --------------  -----  \n",
      " 0   id                       569 non-null    uint32 \n",
      " 1   diagnosis                569 non-null    object \n",
      " 2   radius_mean              569 non-null    float32\n",
      " 3   texture_mean             569 non-null    float32\n",
      " 4   perimeter_mean           569 non-null    float32\n",
      " 5   area_mean                569 non-null    float32\n",
      " 6   smoothness_mean          569 non-null    float32\n",
      " 7   compactness_mean         569 non-null    float32\n",
      " 8   concavity_mean           569 non-null    float32\n",
      " 9   concave points_mean      569 non-null    float32\n",
      " 10  symmetry_mean            569 non-null    float32\n",
      " 11  fractal_dimension_mean   569 non-null    float32\n",
      " 12  radius_se                569 non-null    float32\n",
      " 13  texture_se               569 non-null    float32\n",
      " 14  perimeter_se             569 non-null    float32\n",
      " 15  area_se                  569 non-null    float32\n",
      " 16  smoothness_se            569 non-null    float32\n",
      " 17  compactness_se           569 non-null    float32\n",
      " 18  concavity_se             569 non-null    float32\n",
      " 19  concave points_se        569 non-null    float32\n",
      " 20  symmetry_se              569 non-null    float32\n",
      " 21  fractal_dimension_se     569 non-null    float32\n",
      " 22  radius_worst             569 non-null    float32\n",
      " 23  texture_worst            569 non-null    float32\n",
      " 24  perimeter_worst          569 non-null    float32\n",
      " 25  area_worst               569 non-null    float32\n",
      " 26  smoothness_worst         569 non-null    float32\n",
      " 27  compactness_worst        569 non-null    float32\n",
      " 28  concavity_worst          569 non-null    float32\n",
      " 29  concave points_worst     569 non-null    float32\n",
      " 30  symmetry_worst           569 non-null    float32\n",
      " 31  fractal_dimension_worst  569 non-null    float32\n",
      " 32  Unnamed: 32              0 non-null      float32\n",
      "dtypes: float32(31), object(1), uint32(1)\n",
      "memory usage: 75.7+ KB\n"
     ]
    }
   ],
   "metadata": {}
  },
  {
   "cell_type": "code",
   "execution_count": 7,
   "source": [
    "data_info.get_size()"
   ],
   "outputs": [
    {
     "output_type": "stream",
     "name": "stdout",
     "text": [
      "The DataFrame containes 569 rows and 33 columns.\n"
     ]
    },
    {
     "output_type": "execute_result",
     "data": {
      "text/plain": [
       "(569, 33)"
      ]
     },
     "metadata": {},
     "execution_count": 7
    }
   ],
   "metadata": {}
  },
  {
   "cell_type": "code",
   "execution_count": 8,
   "source": [
    "data_info.get_total_missing_values()"
   ],
   "outputs": [
    {
     "output_type": "stream",
     "name": "stdout",
     "text": [
      "The total number of missing values is 569\n",
      "3.03 % missing values.\n"
     ]
    },
    {
     "output_type": "execute_result",
     "data": {
      "text/plain": [
       "569"
      ]
     },
     "metadata": {},
     "execution_count": 8
    }
   ],
   "metadata": {}
  },
  {
   "cell_type": "code",
   "execution_count": 9,
   "source": [
    "data_info.get_columns_with_missing_values()"
   ],
   "outputs": [
    {
     "output_type": "execute_result",
     "data": {
      "text/plain": [
       "['Unnamed: 32']"
      ]
     },
     "metadata": {},
     "execution_count": 9
    }
   ],
   "metadata": {}
  },
  {
   "cell_type": "code",
   "execution_count": 10,
   "source": [
    "data_info.get_column_based_missing_values()"
   ],
   "outputs": [
    {
     "output_type": "execute_result",
     "data": {
      "text/plain": [
       "             missing_count     type\n",
       "Unnamed: 32            569  float32"
      ],
      "text/html": [
       "<div>\n",
       "<style scoped>\n",
       "    .dataframe tbody tr th:only-of-type {\n",
       "        vertical-align: middle;\n",
       "    }\n",
       "\n",
       "    .dataframe tbody tr th {\n",
       "        vertical-align: top;\n",
       "    }\n",
       "\n",
       "    .dataframe thead th {\n",
       "        text-align: right;\n",
       "    }\n",
       "</style>\n",
       "<table border=\"1\" class=\"dataframe\">\n",
       "  <thead>\n",
       "    <tr style=\"text-align: right;\">\n",
       "      <th></th>\n",
       "      <th>missing_count</th>\n",
       "      <th>type</th>\n",
       "    </tr>\n",
       "  </thead>\n",
       "  <tbody>\n",
       "    <tr>\n",
       "      <th>Unnamed: 32</th>\n",
       "      <td>569</td>\n",
       "      <td>float32</td>\n",
       "    </tr>\n",
       "  </tbody>\n",
       "</table>\n",
       "</div>"
      ]
     },
     "metadata": {},
     "execution_count": 10
    }
   ],
   "metadata": {}
  },
  {
   "cell_type": "code",
   "execution_count": 11,
   "source": [
    "# Remove the entire column which is missing the entire data\r\n",
    "data_info.df.drop(['Unnamed: 32'], axis=1, inplace=True)\r\n"
   ],
   "outputs": [],
   "metadata": {}
  },
  {
   "cell_type": "code",
   "execution_count": 12,
   "source": [
    "data_info.get_total_entries()"
   ],
   "outputs": [
    {
     "output_type": "stream",
     "name": "stdout",
     "text": [
      "The DataFrame containes 18208 entries.\n"
     ]
    },
    {
     "output_type": "execute_result",
     "data": {
      "text/plain": [
       "18208"
      ]
     },
     "metadata": {},
     "execution_count": 12
    }
   ],
   "metadata": {}
  },
  {
   "cell_type": "code",
   "execution_count": 13,
   "source": [
    "data_info.get_dispersion_params().T"
   ],
   "outputs": [
    {
     "output_type": "execute_result",
     "data": {
      "text/plain": [
       "                           count          mean            std       min  \\\n",
       "id                      569.0000 30371831.4323 125020585.6122 8670.0000   \n",
       "radius_mean             569.0000       14.1273         3.5240    6.9810   \n",
       "texture_mean            569.0000       19.2896         4.3010    9.7100   \n",
       "perimeter_mean          569.0000       91.9690        24.2990   43.7900   \n",
       "area_mean               569.0000      654.8890       351.9141  143.5000   \n",
       "smoothness_mean         569.0000        0.0964         0.0141    0.0526   \n",
       "compactness_mean        569.0000        0.1043         0.0528    0.0194   \n",
       "concavity_mean          569.0000        0.0888         0.0797    0.0000   \n",
       "concave points_mean     569.0000        0.0489         0.0388    0.0000   \n",
       "symmetry_mean           569.0000        0.1812         0.0274    0.1060   \n",
       "fractal_dimension_mean  569.0000        0.0628         0.0071    0.0500   \n",
       "radius_se               569.0000        0.4052         0.2773    0.1115   \n",
       "texture_se              569.0000        1.2169         0.5516    0.3602   \n",
       "perimeter_se            569.0000        2.8661         2.0219    0.7570   \n",
       "area_se                 569.0000       40.3371        45.4910    6.8020   \n",
       "smoothness_se           569.0000        0.0070         0.0030    0.0017   \n",
       "compactness_se          569.0000        0.0255         0.0179    0.0023   \n",
       "concavity_se            569.0000        0.0319         0.0302    0.0000   \n",
       "concave points_se       569.0000        0.0118         0.0062    0.0000   \n",
       "symmetry_se             569.0000        0.0205         0.0083    0.0079   \n",
       "fractal_dimension_se    569.0000        0.0038         0.0026    0.0009   \n",
       "radius_worst            569.0000       16.2692         4.8332    7.9300   \n",
       "texture_worst           569.0000       25.6772         6.1463   12.0200   \n",
       "perimeter_worst         569.0000      107.2612        33.6025   50.4100   \n",
       "area_worst              569.0000      880.5831       569.3570  185.2000   \n",
       "smoothness_worst        569.0000        0.1324         0.0228    0.0712   \n",
       "compactness_worst       569.0000        0.2543         0.1573    0.0273   \n",
       "concavity_worst         569.0000        0.2722         0.2086    0.0000   \n",
       "concave points_worst    569.0000        0.1146         0.0657    0.0000   \n",
       "symmetry_worst          569.0000        0.2901         0.0619    0.1565   \n",
       "fractal_dimension_worst 569.0000        0.0839         0.0181    0.0550   \n",
       "\n",
       "                                25%         50%          75%            max  \\\n",
       "id                      869218.0000 906024.0000 8813129.0000 911320502.0000   \n",
       "radius_mean                 11.7000     13.3700      15.7800        28.1100   \n",
       "texture_mean                16.1700     18.8400      21.8000        39.2800   \n",
       "perimeter_mean              75.1700     86.2400     104.1000       188.5000   \n",
       "area_mean                  420.3000    551.1000     782.7000      2501.0000   \n",
       "smoothness_mean              0.0864      0.0959       0.1053         0.1634   \n",
       "compactness_mean             0.0649      0.0926       0.1304         0.3454   \n",
       "concavity_mean               0.0296      0.0615       0.1307         0.4268   \n",
       "concave points_mean          0.0203      0.0335       0.0740         0.2012   \n",
       "symmetry_mean                0.1619      0.1792       0.1957         0.3040   \n",
       "fractal_dimension_mean       0.0577      0.0615       0.0661         0.0974   \n",
       "radius_se                    0.2324      0.3242       0.4789         2.8730   \n",
       "texture_se                   0.8339      1.1080       1.4740         4.8850   \n",
       "perimeter_se                 1.6060      2.2870       3.3570        21.9800   \n",
       "area_se                     17.8500     24.5300      45.1900       542.2000   \n",
       "smoothness_se                0.0052      0.0064       0.0081         0.0311   \n",
       "compactness_se               0.0131      0.0204       0.0325         0.1354   \n",
       "concavity_se                 0.0151      0.0259       0.0421         0.3960   \n",
       "concave points_se            0.0076      0.0109       0.0147         0.0528   \n",
       "symmetry_se                  0.0152      0.0187       0.0235         0.0790   \n",
       "fractal_dimension_se         0.0022      0.0032       0.0046         0.0298   \n",
       "radius_worst                13.0100     14.9700      18.7900        36.0400   \n",
       "texture_worst               21.0800     25.4100      29.7200        49.5400   \n",
       "perimeter_worst             84.1100     97.6600     125.4000       251.2000   \n",
       "area_worst                 515.3000    686.5000    1084.0000      4254.0000   \n",
       "smoothness_worst             0.1166      0.1313       0.1460         0.2226   \n",
       "compactness_worst            0.1472      0.2119       0.3391         1.0580   \n",
       "concavity_worst              0.1145      0.2267       0.3829         1.2520   \n",
       "concave points_worst         0.0649      0.0999       0.1614         0.2910   \n",
       "symmetry_worst               0.2504      0.2822       0.3179         0.6638   \n",
       "fractal_dimension_worst      0.0715      0.0800       0.0921         0.2075   \n",
       "\n",
       "                             Mode      Median  \n",
       "id                      8670.0000 906024.0000  \n",
       "radius_mean               12.3400     13.3700  \n",
       "texture_mean              14.9300     18.8400  \n",
       "perimeter_mean            82.6100     86.2400  \n",
       "area_mean                512.2000    551.1000  \n",
       "smoothness_mean            0.1007      0.0959  \n",
       "compactness_mean           0.1147      0.0926  \n",
       "concavity_mean             0.0000      0.0615  \n",
       "concave points_mean        0.0000      0.0335  \n",
       "symmetry_mean              0.1601      0.1792  \n",
       "fractal_dimension_mean     0.0567      0.0615  \n",
       "radius_se                  0.2204      0.3242  \n",
       "texture_se                 0.8561      1.1080  \n",
       "perimeter_se               1.7780      2.2870  \n",
       "area_se                   16.6400     24.5300  \n",
       "smoothness_se              0.0051      0.0064  \n",
       "compactness_se             0.0110      0.0204  \n",
       "concavity_se               0.0000      0.0259  \n",
       "concave points_se          0.0000      0.0109  \n",
       "symmetry_se                0.0134      0.0187  \n",
       "fractal_dimension_se       0.0018      0.0032  \n",
       "radius_worst              12.3600     14.9700  \n",
       "texture_worst             17.7000     25.4100  \n",
       "perimeter_worst          101.7000     97.6600  \n",
       "area_worst               284.4000    686.5000  \n",
       "smoothness_worst           0.1216      0.1313  \n",
       "compactness_worst          0.1486      0.2119  \n",
       "concavity_worst            0.0000      0.2267  \n",
       "concave points_worst       0.0000      0.0999  \n",
       "symmetry_worst             0.2226      0.2822  \n",
       "fractal_dimension_worst    0.0743      0.0800  "
      ],
      "text/html": [
       "<div>\n",
       "<style scoped>\n",
       "    .dataframe tbody tr th:only-of-type {\n",
       "        vertical-align: middle;\n",
       "    }\n",
       "\n",
       "    .dataframe tbody tr th {\n",
       "        vertical-align: top;\n",
       "    }\n",
       "\n",
       "    .dataframe thead th {\n",
       "        text-align: right;\n",
       "    }\n",
       "</style>\n",
       "<table border=\"1\" class=\"dataframe\">\n",
       "  <thead>\n",
       "    <tr style=\"text-align: right;\">\n",
       "      <th></th>\n",
       "      <th>count</th>\n",
       "      <th>mean</th>\n",
       "      <th>std</th>\n",
       "      <th>min</th>\n",
       "      <th>25%</th>\n",
       "      <th>50%</th>\n",
       "      <th>75%</th>\n",
       "      <th>max</th>\n",
       "      <th>Mode</th>\n",
       "      <th>Median</th>\n",
       "    </tr>\n",
       "  </thead>\n",
       "  <tbody>\n",
       "    <tr>\n",
       "      <th>id</th>\n",
       "      <td>569.0000</td>\n",
       "      <td>30371831.4323</td>\n",
       "      <td>125020585.6122</td>\n",
       "      <td>8670.0000</td>\n",
       "      <td>869218.0000</td>\n",
       "      <td>906024.0000</td>\n",
       "      <td>8813129.0000</td>\n",
       "      <td>911320502.0000</td>\n",
       "      <td>8670.0000</td>\n",
       "      <td>906024.0000</td>\n",
       "    </tr>\n",
       "    <tr>\n",
       "      <th>radius_mean</th>\n",
       "      <td>569.0000</td>\n",
       "      <td>14.1273</td>\n",
       "      <td>3.5240</td>\n",
       "      <td>6.9810</td>\n",
       "      <td>11.7000</td>\n",
       "      <td>13.3700</td>\n",
       "      <td>15.7800</td>\n",
       "      <td>28.1100</td>\n",
       "      <td>12.3400</td>\n",
       "      <td>13.3700</td>\n",
       "    </tr>\n",
       "    <tr>\n",
       "      <th>texture_mean</th>\n",
       "      <td>569.0000</td>\n",
       "      <td>19.2896</td>\n",
       "      <td>4.3010</td>\n",
       "      <td>9.7100</td>\n",
       "      <td>16.1700</td>\n",
       "      <td>18.8400</td>\n",
       "      <td>21.8000</td>\n",
       "      <td>39.2800</td>\n",
       "      <td>14.9300</td>\n",
       "      <td>18.8400</td>\n",
       "    </tr>\n",
       "    <tr>\n",
       "      <th>perimeter_mean</th>\n",
       "      <td>569.0000</td>\n",
       "      <td>91.9690</td>\n",
       "      <td>24.2990</td>\n",
       "      <td>43.7900</td>\n",
       "      <td>75.1700</td>\n",
       "      <td>86.2400</td>\n",
       "      <td>104.1000</td>\n",
       "      <td>188.5000</td>\n",
       "      <td>82.6100</td>\n",
       "      <td>86.2400</td>\n",
       "    </tr>\n",
       "    <tr>\n",
       "      <th>area_mean</th>\n",
       "      <td>569.0000</td>\n",
       "      <td>654.8890</td>\n",
       "      <td>351.9141</td>\n",
       "      <td>143.5000</td>\n",
       "      <td>420.3000</td>\n",
       "      <td>551.1000</td>\n",
       "      <td>782.7000</td>\n",
       "      <td>2501.0000</td>\n",
       "      <td>512.2000</td>\n",
       "      <td>551.1000</td>\n",
       "    </tr>\n",
       "    <tr>\n",
       "      <th>smoothness_mean</th>\n",
       "      <td>569.0000</td>\n",
       "      <td>0.0964</td>\n",
       "      <td>0.0141</td>\n",
       "      <td>0.0526</td>\n",
       "      <td>0.0864</td>\n",
       "      <td>0.0959</td>\n",
       "      <td>0.1053</td>\n",
       "      <td>0.1634</td>\n",
       "      <td>0.1007</td>\n",
       "      <td>0.0959</td>\n",
       "    </tr>\n",
       "    <tr>\n",
       "      <th>compactness_mean</th>\n",
       "      <td>569.0000</td>\n",
       "      <td>0.1043</td>\n",
       "      <td>0.0528</td>\n",
       "      <td>0.0194</td>\n",
       "      <td>0.0649</td>\n",
       "      <td>0.0926</td>\n",
       "      <td>0.1304</td>\n",
       "      <td>0.3454</td>\n",
       "      <td>0.1147</td>\n",
       "      <td>0.0926</td>\n",
       "    </tr>\n",
       "    <tr>\n",
       "      <th>concavity_mean</th>\n",
       "      <td>569.0000</td>\n",
       "      <td>0.0888</td>\n",
       "      <td>0.0797</td>\n",
       "      <td>0.0000</td>\n",
       "      <td>0.0296</td>\n",
       "      <td>0.0615</td>\n",
       "      <td>0.1307</td>\n",
       "      <td>0.4268</td>\n",
       "      <td>0.0000</td>\n",
       "      <td>0.0615</td>\n",
       "    </tr>\n",
       "    <tr>\n",
       "      <th>concave points_mean</th>\n",
       "      <td>569.0000</td>\n",
       "      <td>0.0489</td>\n",
       "      <td>0.0388</td>\n",
       "      <td>0.0000</td>\n",
       "      <td>0.0203</td>\n",
       "      <td>0.0335</td>\n",
       "      <td>0.0740</td>\n",
       "      <td>0.2012</td>\n",
       "      <td>0.0000</td>\n",
       "      <td>0.0335</td>\n",
       "    </tr>\n",
       "    <tr>\n",
       "      <th>symmetry_mean</th>\n",
       "      <td>569.0000</td>\n",
       "      <td>0.1812</td>\n",
       "      <td>0.0274</td>\n",
       "      <td>0.1060</td>\n",
       "      <td>0.1619</td>\n",
       "      <td>0.1792</td>\n",
       "      <td>0.1957</td>\n",
       "      <td>0.3040</td>\n",
       "      <td>0.1601</td>\n",
       "      <td>0.1792</td>\n",
       "    </tr>\n",
       "    <tr>\n",
       "      <th>fractal_dimension_mean</th>\n",
       "      <td>569.0000</td>\n",
       "      <td>0.0628</td>\n",
       "      <td>0.0071</td>\n",
       "      <td>0.0500</td>\n",
       "      <td>0.0577</td>\n",
       "      <td>0.0615</td>\n",
       "      <td>0.0661</td>\n",
       "      <td>0.0974</td>\n",
       "      <td>0.0567</td>\n",
       "      <td>0.0615</td>\n",
       "    </tr>\n",
       "    <tr>\n",
       "      <th>radius_se</th>\n",
       "      <td>569.0000</td>\n",
       "      <td>0.4052</td>\n",
       "      <td>0.2773</td>\n",
       "      <td>0.1115</td>\n",
       "      <td>0.2324</td>\n",
       "      <td>0.3242</td>\n",
       "      <td>0.4789</td>\n",
       "      <td>2.8730</td>\n",
       "      <td>0.2204</td>\n",
       "      <td>0.3242</td>\n",
       "    </tr>\n",
       "    <tr>\n",
       "      <th>texture_se</th>\n",
       "      <td>569.0000</td>\n",
       "      <td>1.2169</td>\n",
       "      <td>0.5516</td>\n",
       "      <td>0.3602</td>\n",
       "      <td>0.8339</td>\n",
       "      <td>1.1080</td>\n",
       "      <td>1.4740</td>\n",
       "      <td>4.8850</td>\n",
       "      <td>0.8561</td>\n",
       "      <td>1.1080</td>\n",
       "    </tr>\n",
       "    <tr>\n",
       "      <th>perimeter_se</th>\n",
       "      <td>569.0000</td>\n",
       "      <td>2.8661</td>\n",
       "      <td>2.0219</td>\n",
       "      <td>0.7570</td>\n",
       "      <td>1.6060</td>\n",
       "      <td>2.2870</td>\n",
       "      <td>3.3570</td>\n",
       "      <td>21.9800</td>\n",
       "      <td>1.7780</td>\n",
       "      <td>2.2870</td>\n",
       "    </tr>\n",
       "    <tr>\n",
       "      <th>area_se</th>\n",
       "      <td>569.0000</td>\n",
       "      <td>40.3371</td>\n",
       "      <td>45.4910</td>\n",
       "      <td>6.8020</td>\n",
       "      <td>17.8500</td>\n",
       "      <td>24.5300</td>\n",
       "      <td>45.1900</td>\n",
       "      <td>542.2000</td>\n",
       "      <td>16.6400</td>\n",
       "      <td>24.5300</td>\n",
       "    </tr>\n",
       "    <tr>\n",
       "      <th>smoothness_se</th>\n",
       "      <td>569.0000</td>\n",
       "      <td>0.0070</td>\n",
       "      <td>0.0030</td>\n",
       "      <td>0.0017</td>\n",
       "      <td>0.0052</td>\n",
       "      <td>0.0064</td>\n",
       "      <td>0.0081</td>\n",
       "      <td>0.0311</td>\n",
       "      <td>0.0051</td>\n",
       "      <td>0.0064</td>\n",
       "    </tr>\n",
       "    <tr>\n",
       "      <th>compactness_se</th>\n",
       "      <td>569.0000</td>\n",
       "      <td>0.0255</td>\n",
       "      <td>0.0179</td>\n",
       "      <td>0.0023</td>\n",
       "      <td>0.0131</td>\n",
       "      <td>0.0204</td>\n",
       "      <td>0.0325</td>\n",
       "      <td>0.1354</td>\n",
       "      <td>0.0110</td>\n",
       "      <td>0.0204</td>\n",
       "    </tr>\n",
       "    <tr>\n",
       "      <th>concavity_se</th>\n",
       "      <td>569.0000</td>\n",
       "      <td>0.0319</td>\n",
       "      <td>0.0302</td>\n",
       "      <td>0.0000</td>\n",
       "      <td>0.0151</td>\n",
       "      <td>0.0259</td>\n",
       "      <td>0.0421</td>\n",
       "      <td>0.3960</td>\n",
       "      <td>0.0000</td>\n",
       "      <td>0.0259</td>\n",
       "    </tr>\n",
       "    <tr>\n",
       "      <th>concave points_se</th>\n",
       "      <td>569.0000</td>\n",
       "      <td>0.0118</td>\n",
       "      <td>0.0062</td>\n",
       "      <td>0.0000</td>\n",
       "      <td>0.0076</td>\n",
       "      <td>0.0109</td>\n",
       "      <td>0.0147</td>\n",
       "      <td>0.0528</td>\n",
       "      <td>0.0000</td>\n",
       "      <td>0.0109</td>\n",
       "    </tr>\n",
       "    <tr>\n",
       "      <th>symmetry_se</th>\n",
       "      <td>569.0000</td>\n",
       "      <td>0.0205</td>\n",
       "      <td>0.0083</td>\n",
       "      <td>0.0079</td>\n",
       "      <td>0.0152</td>\n",
       "      <td>0.0187</td>\n",
       "      <td>0.0235</td>\n",
       "      <td>0.0790</td>\n",
       "      <td>0.0134</td>\n",
       "      <td>0.0187</td>\n",
       "    </tr>\n",
       "    <tr>\n",
       "      <th>fractal_dimension_se</th>\n",
       "      <td>569.0000</td>\n",
       "      <td>0.0038</td>\n",
       "      <td>0.0026</td>\n",
       "      <td>0.0009</td>\n",
       "      <td>0.0022</td>\n",
       "      <td>0.0032</td>\n",
       "      <td>0.0046</td>\n",
       "      <td>0.0298</td>\n",
       "      <td>0.0018</td>\n",
       "      <td>0.0032</td>\n",
       "    </tr>\n",
       "    <tr>\n",
       "      <th>radius_worst</th>\n",
       "      <td>569.0000</td>\n",
       "      <td>16.2692</td>\n",
       "      <td>4.8332</td>\n",
       "      <td>7.9300</td>\n",
       "      <td>13.0100</td>\n",
       "      <td>14.9700</td>\n",
       "      <td>18.7900</td>\n",
       "      <td>36.0400</td>\n",
       "      <td>12.3600</td>\n",
       "      <td>14.9700</td>\n",
       "    </tr>\n",
       "    <tr>\n",
       "      <th>texture_worst</th>\n",
       "      <td>569.0000</td>\n",
       "      <td>25.6772</td>\n",
       "      <td>6.1463</td>\n",
       "      <td>12.0200</td>\n",
       "      <td>21.0800</td>\n",
       "      <td>25.4100</td>\n",
       "      <td>29.7200</td>\n",
       "      <td>49.5400</td>\n",
       "      <td>17.7000</td>\n",
       "      <td>25.4100</td>\n",
       "    </tr>\n",
       "    <tr>\n",
       "      <th>perimeter_worst</th>\n",
       "      <td>569.0000</td>\n",
       "      <td>107.2612</td>\n",
       "      <td>33.6025</td>\n",
       "      <td>50.4100</td>\n",
       "      <td>84.1100</td>\n",
       "      <td>97.6600</td>\n",
       "      <td>125.4000</td>\n",
       "      <td>251.2000</td>\n",
       "      <td>101.7000</td>\n",
       "      <td>97.6600</td>\n",
       "    </tr>\n",
       "    <tr>\n",
       "      <th>area_worst</th>\n",
       "      <td>569.0000</td>\n",
       "      <td>880.5831</td>\n",
       "      <td>569.3570</td>\n",
       "      <td>185.2000</td>\n",
       "      <td>515.3000</td>\n",
       "      <td>686.5000</td>\n",
       "      <td>1084.0000</td>\n",
       "      <td>4254.0000</td>\n",
       "      <td>284.4000</td>\n",
       "      <td>686.5000</td>\n",
       "    </tr>\n",
       "    <tr>\n",
       "      <th>smoothness_worst</th>\n",
       "      <td>569.0000</td>\n",
       "      <td>0.1324</td>\n",
       "      <td>0.0228</td>\n",
       "      <td>0.0712</td>\n",
       "      <td>0.1166</td>\n",
       "      <td>0.1313</td>\n",
       "      <td>0.1460</td>\n",
       "      <td>0.2226</td>\n",
       "      <td>0.1216</td>\n",
       "      <td>0.1313</td>\n",
       "    </tr>\n",
       "    <tr>\n",
       "      <th>compactness_worst</th>\n",
       "      <td>569.0000</td>\n",
       "      <td>0.2543</td>\n",
       "      <td>0.1573</td>\n",
       "      <td>0.0273</td>\n",
       "      <td>0.1472</td>\n",
       "      <td>0.2119</td>\n",
       "      <td>0.3391</td>\n",
       "      <td>1.0580</td>\n",
       "      <td>0.1486</td>\n",
       "      <td>0.2119</td>\n",
       "    </tr>\n",
       "    <tr>\n",
       "      <th>concavity_worst</th>\n",
       "      <td>569.0000</td>\n",
       "      <td>0.2722</td>\n",
       "      <td>0.2086</td>\n",
       "      <td>0.0000</td>\n",
       "      <td>0.1145</td>\n",
       "      <td>0.2267</td>\n",
       "      <td>0.3829</td>\n",
       "      <td>1.2520</td>\n",
       "      <td>0.0000</td>\n",
       "      <td>0.2267</td>\n",
       "    </tr>\n",
       "    <tr>\n",
       "      <th>concave points_worst</th>\n",
       "      <td>569.0000</td>\n",
       "      <td>0.1146</td>\n",
       "      <td>0.0657</td>\n",
       "      <td>0.0000</td>\n",
       "      <td>0.0649</td>\n",
       "      <td>0.0999</td>\n",
       "      <td>0.1614</td>\n",
       "      <td>0.2910</td>\n",
       "      <td>0.0000</td>\n",
       "      <td>0.0999</td>\n",
       "    </tr>\n",
       "    <tr>\n",
       "      <th>symmetry_worst</th>\n",
       "      <td>569.0000</td>\n",
       "      <td>0.2901</td>\n",
       "      <td>0.0619</td>\n",
       "      <td>0.1565</td>\n",
       "      <td>0.2504</td>\n",
       "      <td>0.2822</td>\n",
       "      <td>0.3179</td>\n",
       "      <td>0.6638</td>\n",
       "      <td>0.2226</td>\n",
       "      <td>0.2822</td>\n",
       "    </tr>\n",
       "    <tr>\n",
       "      <th>fractal_dimension_worst</th>\n",
       "      <td>569.0000</td>\n",
       "      <td>0.0839</td>\n",
       "      <td>0.0181</td>\n",
       "      <td>0.0550</td>\n",
       "      <td>0.0715</td>\n",
       "      <td>0.0800</td>\n",
       "      <td>0.0921</td>\n",
       "      <td>0.2075</td>\n",
       "      <td>0.0743</td>\n",
       "      <td>0.0800</td>\n",
       "    </tr>\n",
       "  </tbody>\n",
       "</table>\n",
       "</div>"
      ]
     },
     "metadata": {},
     "execution_count": 13
    }
   ],
   "metadata": {}
  },
  {
   "cell_type": "code",
   "execution_count": 14,
   "source": [
    "len(data_info.get_duplicates())"
   ],
   "outputs": [
    {
     "output_type": "execute_result",
     "data": {
      "text/plain": [
       "0"
      ]
     },
     "metadata": {},
     "execution_count": 14
    }
   ],
   "metadata": {}
  },
  {
   "cell_type": "code",
   "execution_count": 15,
   "source": [
    "data_info.get_object_columns()"
   ],
   "outputs": [
    {
     "output_type": "execute_result",
     "data": {
      "text/plain": [
       "['diagnosis']"
      ]
     },
     "metadata": {},
     "execution_count": 15
    }
   ],
   "metadata": {}
  },
  {
   "cell_type": "code",
   "execution_count": 16,
   "source": [
    "# Remaining are all Numeric Types\r\n",
    "len(data_info.get_numeric_columns())"
   ],
   "outputs": [
    {
     "output_type": "execute_result",
     "data": {
      "text/plain": [
       "30"
      ]
     },
     "metadata": {},
     "execution_count": 16
    }
   ],
   "metadata": {}
  },
  {
   "cell_type": "markdown",
   "source": [
    "## Feature Extraction"
   ],
   "metadata": {}
  },
  {
   "cell_type": "code",
   "execution_count": 18,
   "source": [
    "# Create A Data Manipulator Class Instance from the dataframe\r\n",
    "data_manipulator = DataManipulator(data_info.df, deep=True)"
   ],
   "outputs": [],
   "metadata": {}
  },
  {
   "cell_type": "markdown",
   "source": [
    "### Concavity Dispersion Feature"
   ],
   "metadata": {}
  },
  {
   "cell_type": "code",
   "execution_count": 62,
   "source": [
    "# Add Concavity Dispersion for mean concave points and mean area\r\n",
    "data_manipulator.add_column(\r\n",
    "    'concavity_dispersion_mean', 'concave points_mean', 'area_mean', calculate_concavity_dispersion)\r\n"
   ],
   "outputs": [],
   "metadata": {}
  },
  {
   "cell_type": "code",
   "execution_count": 64,
   "source": [
    "# Add Concavity Dispersion for mean concave points and mean area\r\n",
    "data_manipulator.add_column(\r\n",
    "    'concavity_dispersion_se', 'concave points_se', 'area_se', calculate_concavity_dispersion)\r\n"
   ],
   "outputs": [],
   "metadata": {}
  },
  {
   "cell_type": "code",
   "execution_count": 65,
   "source": [
    "# Add Concavity Dispersion for mean concave points and mean area\r\n",
    "data_manipulator.add_column(\r\n",
    "    'concavity_dispersion_worst', 'concave points_worst', 'area_worst', calculate_concavity_dispersion)\r\n"
   ],
   "outputs": [],
   "metadata": {}
  },
  {
   "cell_type": "code",
   "execution_count": 66,
   "source": [
    "data_manipulator.df.columns"
   ],
   "outputs": [
    {
     "output_type": "execute_result",
     "data": {
      "text/plain": [
       "Index(['id', 'diagnosis', 'radius_mean', 'texture_mean', 'perimeter_mean',\n",
       "       'area_mean', 'smoothness_mean', 'compactness_mean', 'concavity_mean',\n",
       "       'concave points_mean', 'symmetry_mean', 'fractal_dimension_mean',\n",
       "       'radius_se', 'texture_se', 'perimeter_se', 'area_se', 'smoothness_se',\n",
       "       'compactness_se', 'concavity_se', 'concave points_se', 'symmetry_se',\n",
       "       'fractal_dimension_se', 'radius_worst', 'texture_worst',\n",
       "       'perimeter_worst', 'area_worst', 'smoothness_worst',\n",
       "       'compactness_worst', 'concavity_worst', 'concave points_worst',\n",
       "       'symmetry_worst', 'fractal_dimension_worst', 'circumference_mean',\n",
       "       'circumference_se', 'circumference_worst', 'concavity_dispersion_mean',\n",
       "       'concavity_dispersion_se', 'concavity_dispersion_worst'],\n",
       "      dtype='object')"
      ]
     },
     "metadata": {},
     "execution_count": 66
    }
   ],
   "metadata": {}
  },
  {
   "cell_type": "code",
   "execution_count": null,
   "source": [],
   "outputs": [],
   "metadata": {}
  }
 ],
 "metadata": {
  "orig_nbformat": 4,
  "language_info": {
   "name": "python",
   "version": "3.8.4",
   "mimetype": "text/x-python",
   "codemirror_mode": {
    "name": "ipython",
    "version": 3
   },
   "pygments_lexer": "ipython3",
   "nbconvert_exporter": "python",
   "file_extension": ".py"
  },
  "kernelspec": {
   "name": "python3",
   "display_name": "Python 3.8.4 64-bit"
  },
  "interpreter": {
   "hash": "2db524e06e9f5f4ffedc911c917cb75e12dbc923643829bf417064a77eb14d37"
  }
 },
 "nbformat": 4,
 "nbformat_minor": 2
}
